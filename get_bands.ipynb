{
 "cells": [
  {
   "cell_type": "code",
   "execution_count": 1,
   "id": "142a619b",
   "metadata": {},
   "outputs": [],
   "source": [
    "import json\n",
    "from bs4 import BeautifulSoup"
   ]
  },
  {
   "cell_type": "code",
   "execution_count": 2,
   "id": "df44a204",
   "metadata": {},
   "outputs": [
    {
     "name": "stdout",
     "output_type": "stream",
     "text": [
      "bands.json  primavera.html\r\n"
     ]
    }
   ],
   "source": [
    "ls data"
   ]
  },
  {
   "cell_type": "code",
   "execution_count": 3,
   "id": "896f9060",
   "metadata": {},
   "outputs": [],
   "source": [
    "with open(\"data/primavera.html\") as fp:\n",
    "    soup = BeautifulSoup(fp, 'html.parser')"
   ]
  },
  {
   "cell_type": "code",
   "execution_count": 4,
   "id": "35c1cb61",
   "metadata": {},
   "outputs": [],
   "source": [
    "days = soup.find_all('div', class_=\"mb-12\")"
   ]
  },
  {
   "cell_type": "code",
   "execution_count": 5,
   "id": "79c2fa04",
   "metadata": {},
   "outputs": [],
   "source": [
    "daysList = []"
   ]
  },
  {
   "cell_type": "markdown",
   "id": "3de152f5",
   "metadata": {},
   "source": [
    "```json\n",
    "{\"name\": \"bla\", \"time\": \"TBD\", \"img\": \"uri\", \"url\": \"url\"}\n",
    "```"
   ]
  },
  {
   "cell_type": "code",
   "execution_count": 6,
   "id": "82351444",
   "metadata": {},
   "outputs": [
    {
     "name": "stdout",
     "output_type": "stream",
     "text": [
      "100 gecs TBD Parc del Fòrum https://assets-img.primaverasound.com/97x50/psweb/cejk9cw2qfekoo2md86d_1621923296155.png https://www.primaverasound.com/en/primavera-sound-202x2-barcelona/100-gecs\n"
     ]
    }
   ],
   "source": [
    "row = days[0].table.tbody.tr.find_all('td')[1]\n",
    "name = row.h3.text\n",
    "time_and_place = row.find_all('p')\n",
    "time = row.find_all('p')[0].text\n",
    "place = row.find_all('p')[1].text\n",
    "imgs = row.find_all('img')\n",
    "img = imgs[1]['src']\n",
    "url = row.div.a['href']\n",
    "url = f'https://www.primaverasound.com{url}'\n",
    "\n",
    "print(name, time, place, img, url)"
   ]
  },
  {
   "cell_type": "code",
   "execution_count": 7,
   "id": "cf38a405",
   "metadata": {},
   "outputs": [
    {
     "name": "stdout",
     "output_type": "stream",
     "text": [
      "100 gecs TBD Parc del Fòrum https://assets-img.primaverasound.com/97x50/psweb/cejk9cw2qfekoo2md86d_1621923296155.png https://www.primaverasound.com/en/primavera-sound-202x2-barcelona/100-gecs\n",
      "33EMYBW TBD Parc del Fòrum https://assets-img.primaverasound.com/97x50/psweb/s0dz4v2wpyawx88q7s8p_1580122339670.jpg https://www.primaverasound.com/en/primavera-sound-202x2-barcelona/33emybw\n",
      "AFRODEUTSCHE TBD Parc del Fòrum https://assets-img.primaverasound.com/97x50/psweb/aix6c9knwk17c9wiexqb_1579168316816.jpg https://www.primaverasound.com/en/primavera-sound-202x2-barcelona/afrodeutsche\n",
      "Bad Gyal TBD Parc del Fòrum https://assets-img.primaverasound.com/97x50/psweb/lfla2z5wi3hk5sgthv2f_1621865227891.png https://www.primaverasound.com/en/primavera-sound-202x2-barcelona/bad-gyal\n",
      "Beabadoobee TBD Parc del Fòrum https://assets-img.primaverasound.com/97x50/psweb/be59wpc32usi3ktxzuxx_1591174065403.jpg https://www.primaverasound.com/en/primavera-sound-202x2-barcelona/beabadoobee\n",
      "Big Freedia TBD Parc del Fòrum https://assets-img.primaverasound.com/97x50/psweb/x4ho7jcxwna13il15ga3_1579514552945.png https://www.primaverasound.com/en/primavera-sound-202x2-barcelona/big-freedia\n",
      "Black Lips TBD Parc del Fòrum https://assets-img.primaverasound.com/97x50/psweb/ncsnpi1my856pxrdycmc_1579514791720.png https://www.primaverasound.com/en/primavera-sound-202x2-barcelona/black-lips\n",
      "Black Midi TBD Parc del Fòrum https://assets-img.primaverasound.com/97x50/psweb/2nlr2w9yug0s3czyco34_1579113115957.jpg https://www.primaverasound.com/en/primavera-sound-202x2-barcelona/black-midi\n",
      "C. Tangana TBD Parc del Fòrum https://assets-img.primaverasound.com/97x50/psweb/s8jzr5lmy6418k0pwlbp_1579515234897.png https://www.primaverasound.com/en/primavera-sound-202x2-barcelona/c-tangana\n",
      "Call Super b2b Shanti Celeste TBD Parc del Fòrum https://assets-img.primaverasound.com/97x50/psweb/dv3amoeyeopdtg2sqp4i_1579115457036.png https://www.primaverasound.com/en/primavera-sound-202x2-barcelona/call-super-b2b-shanti-celeste\n",
      "Carista TBD Parc del Fòrum https://assets-img.primaverasound.com/97x50/psweb/r9cupen03clbsuop2x9q_1579515325145.png https://www.primaverasound.com/en/primavera-sound-202x2-barcelona/carista\n",
      "Carla TBD Parc del Fòrum https://assets-img.primaverasound.com/97x50/psweb/3q71np49xix55sg55kw2_1579116097508.jpg https://www.primaverasound.com/en/primavera-sound-202x2-barcelona/carla\n",
      "Carolina Durante TBD Parc del Fòrum //assets-img.primaverasound.com/97x50/2019/pso/images/artistas/CAROLINA_DURANTE_web_20190614104834.jpg https://www.primaverasound.com/en/primavera-sound-202x2-barcelona/carolina-durante\n",
      "Charli XCX TBD Parc del Fòrum https://assets-img.primaverasound.com/97x50/psweb/4nhjqp3pk9pxdlylvy4l_1590572340314.png https://www.primaverasound.com/en/primavera-sound-202x2-barcelona/charli-xcx\n",
      "Cigarettes After Sex TBD Parc del Fòrum https://assets-img.primaverasound.com/97x50/psweb/37beaf9o9xpiufq641it_1579515518432.png https://www.primaverasound.com/en/primavera-sound-202x2-barcelona/cigarettes-after-sex\n",
      "D. Tiffany TBD Parc del Fòrum https://assets-img.primaverasound.com/97x50/psweb/9uvq9ekqdcko01ykje6k_1579515994455.png https://www.primaverasound.com/en/primavera-sound-202x2-barcelona/d-tiffany\n",
      "Dinosaur Jr. TBD Parc del Fòrum https://assets-img.primaverasound.com/97x50/psweb/rkzir7gq501sjaznq199_1579119927444.jpg https://www.primaverasound.com/en/primavera-sound-202x2-barcelona/dinosaur-jr\n",
      "Dj Fra TBD Parc del Fòrum https://assets-img.primaverasound.com/97x50/psweb/6lzaf7q0mlwzqmy83fby_1579185530244.jpg https://www.primaverasound.com/en/primavera-sound-202x2-barcelona/dj-fra\n",
      "DJ Shadow TBD Parc del Fòrum https://assets-img.primaverasound.com/97x50/psweb/m149klcffjgtr3d2redw_1579128536191.jpg https://www.primaverasound.com/en/primavera-sound-202x2-barcelona/dj-shadow\n",
      "El Mató a un Policía Motorizado TBD Parc del Fòrum https://assets-img.primaverasound.com/97x50/psweb/fv06il17lswxtx6ri9np_1591687426130.jpg https://www.primaverasound.com/en/primavera-sound-202x2-barcelona/el-mato-a-un-policia-motorizado\n",
      "Faye Webster TBD Parc del Fòrum https://assets-img.primaverasound.com/97x50/psweb/qzqb3mufl2fb4dvd3nw9_1579521701119.png https://www.primaverasound.com/en/primavera-sound-202x2-barcelona/faye-webster\n",
      "girl in red TBD Parc del Fòrum https://assets-img.primaverasound.com/97x50/psweb/iy811gukn85lmuuban1n_1616068081735.png https://www.primaverasound.com/en/primavera-sound-202x2-barcelona/girl-in-red\n",
      "Hannah Diamond TBD Parc del Fòrum https://assets-img.primaverasound.com/97x50/psweb/e2wz3scc7r4gjcgbgpcv_1579522284718.png https://www.primaverasound.com/en/primavera-sound-202x2-barcelona/hannah-diamond\n",
      "Honey Dijon TBD Parc del Fòrum https://assets-img.primaverasound.com/97x50/psweb/njj8iwgrcobigvwxw17s_1579161436905.png https://www.primaverasound.com/en/primavera-sound-202x2-barcelona/honey-dijon\n",
      "Ivy Barkakati TBD Parc del Fòrum https://assets-img.primaverasound.com/97x50/psweb/unjvpl8gluo4woahphrf_1579162630351.png https://www.primaverasound.com/en/primavera-sound-202x2-barcelona/ivy-barkakati\n",
      "Joan Shelley TBD Parc del Fòrum https://assets-img.primaverasound.com/97x50/psweb/hvg2iql3kcc5d3jp9sh7_1579164677719.png https://www.primaverasound.com/en/primavera-sound-202x2-barcelona/joan-shelley\n",
      "Kacey Musgraves TBD Parc del Fòrum https://assets-img.primaverasound.com/97x50/psweb/0mw84twzka8t245md6yx_1579120310689.jpg https://www.primaverasound.com/en/primavera-sound-202x2-barcelona/kacey-musgraves\n",
      "Kampire & Decay: Bunu Pop TBD Parc del Fòrum https://assets-img.primaverasound.com/97x50/psweb/12cynqbi73u2rupmosat_1579121789564.jpg https://www.primaverasound.com/en/primavera-sound-202x2-barcelona/kampire-and-decay-present-bunu-bop\n",
      "Kareem Ali TBD Parc del Fòrum https://assets-img.primaverasound.com/97x50/psweb/g85zly9ehfon8mi7ltis_1621874447395.png https://www.primaverasound.com/en/primavera-sound-202x2-barcelona/kareem-ali\n",
      "Kehlani TBD Parc del Fòrum https://assets-img.primaverasound.com/97x50/psweb/msi0nry5919sbnb71eyu_1591181470676.jpg https://www.primaverasound.com/en/primavera-sound-202x2-barcelona/kehlani\n",
      "Kim Gordon TBD Parc del Fòrum https://assets-img.primaverasound.com/97x50/psweb/jkfw6ei8nim9ekcubb3r_1579123796176.jpg https://www.primaverasound.com/en/primavera-sound-202x2-barcelona/kim-gordon\n",
      "Les Savy Fav TBD Parc del Fòrum https://assets-img.primaverasound.com/97x50/psweb/nwy9tatbrux2qxqhls9j_1579524721175.png https://www.primaverasound.com/en/primavera-sound-202x2-barcelona/les-savy-fav\n",
      "Lingua Ignota TBD Parc del Fòrum https://assets-img.primaverasound.com/97x50/psweb/b6fr63ebdj18lxy5yptg_1579525168616.png https://www.primaverasound.com/en/primavera-sound-202x2-barcelona/lingua-ignota\n",
      "Mabel TBD Parc del Fòrum https://assets-img.primaverasound.com/97x50/psweb/25al0pmkmnis8gbfd4kg_1579140958858.png https://www.primaverasound.com/en/primavera-sound-202x2-barcelona/mabel\n",
      "Maria del Mar Bonet TBD Parc del Fòrum https://assets-img.primaverasound.com/97x50/psweb/ulkpkhj9xluuf9gaywdw_1579139577885.jpg https://www.primaverasound.com/en/primavera-sound-202x2-barcelona/maria-del-mar-bonet\n",
      "Martha TBD Parc del Fòrum https://assets-img.primaverasound.com/97x50/psweb/wskupuinmvkatixpnbdl_1579775081869.jpg https://www.primaverasound.com/en/primavera-sound-202x2-barcelona/martha\n",
      "Massive Attack TBD Parc del Fòrum https://assets-img.primaverasound.com/97x50/psweb/rzvuby1jztlmkgsfkibv_1579525348961.png https://www.primaverasound.com/en/primavera-sound-202x2-barcelona/massive-attack\n",
      "Napalm Death TBD Parc del Fòrum https://assets-img.primaverasound.com/97x50/psweb/141k24lufdj2194qava8_1579525858199.png https://www.primaverasound.com/en/primavera-sound-202x2-barcelona/napalm-death\n",
      "Oklou TBD Parc del Fòrum https://assets-img.primaverasound.com/97x50/psweb/xam9a86xppgisfuy1ngf_1579119257734.png https://www.primaverasound.com/en/primavera-sound-202x2-barcelona/oklou\n",
      "Otoboke Beaver TBD Parc del Fòrum https://assets-img.primaverasound.com/97x50/psweb/21wlcvz5j9lmb8d005rg_1579122163545.jpg https://www.primaverasound.com/en/primavera-sound-202x2-barcelona/otoboke-beaver\n",
      "Pavement TBD Parc del Fòrum https://assets-img.primaverasound.com/97x50/psweb/t1n9itk0bfh5qo4hxouq_1568627324098.jpg https://www.primaverasound.com/en/primavera-sound-202x2-barcelona/pavement\n",
      "Pelada TBD Parc del Fòrum https://assets-img.primaverasound.com/97x50/psweb/7hxicauvv573gggyu8v4_1579124326839.png https://www.primaverasound.com/en/primavera-sound-202x2-barcelona/pelada\n",
      "Pond TBD Parc del Fòrum //assets-img.primaverasound.com/97x50/2018/psb/images/artistas/POND_edit_20181219122507.jpg https://www.primaverasound.com/en/primavera-sound-202x2-barcelona/pond\n",
      "Rina Sawayama TBD Parc del Fòrum https://assets-img.primaverasound.com/97x50/psweb/otaomqbni7yk3lll5fdq_1579126346926.png https://www.primaverasound.com/en/primavera-sound-202x2-barcelona/rina-sawayama\n",
      "Rodrigo Cuevas: Barbián TBD Parc del Fòrum https://assets-img.primaverasound.com/97x50/psweb/ab2a2t3ikdk0gzux1lo0_1621687601225.png https://www.primaverasound.com/en/primavera-sound-202x2-barcelona/rodrigo-cuevas\n",
      "Rombo TBD Parc del Fòrum https://assets-img.primaverasound.com/97x50/psweb/dm1b7s6oy0vzc84izhsh_1579526450268.png https://www.primaverasound.com/en/primavera-sound-202x2-barcelona/rombo\n",
      "Sharon Van Etten TBD Parc del Fòrum https://assets-img.primaverasound.com/97x50/psweb/26m0twkjg8kd949znso9_1591132134328.jpg https://www.primaverasound.com/en/primavera-sound-202x2-barcelona/sharon-van-etten\n",
      "Shygirl TBD Parc del Fòrum https://assets-img.primaverasound.com/97x50/psweb/v3u7duzmz5po7ipfhoo3_1621939736083.png https://www.primaverasound.com/en/primavera-sound-202x2-barcelona/shygirl\n",
      "Soto Asa TBD Parc del Fòrum https://assets-img.primaverasound.com/97x50/psweb/iqeqoe1ja3gub8b9q7g4_1579135220844.png https://www.primaverasound.com/en/primavera-sound-202x2-barcelona/soto-asa\n",
      "Tame Impala TBD Parc del Fòrum //assets-img.primaverasound.com/97x50/2019/psb/images/artistas/New_-_Tame_Impala_2019.2_20190108112239.jpg https://www.primaverasound.com/en/primavera-sound-202x2-barcelona/tame-impala\n",
      "The Armed TBD Parc del Fòrum https://assets-img.primaverasound.com/97x50/psweb/zblk69ikzs1otxmjoeng_1621676402144.JPG https://www.primaverasound.com/en/primavera-sound-202x2-barcelona/the-armed\n",
      "Turnstile TBD Parc del Fòrum https://assets-img.primaverasound.com/97x50/psweb/dn2sa5r8djqfmcqj8a4d_1621675970707.jpg https://www.primaverasound.com/en/primavera-sound-202x2-barcelona/turnstile\n",
      "Verde Prato TBD Parc del Fòrum https://assets-img.primaverasound.com/97x50/psweb/n3vrdrp5445itp26flw7_1621781693024.jpg https://www.primaverasound.com/en/primavera-sound-202x2-barcelona/verde-prato\n",
      "VTSS Live TBD Parc del Fòrum https://assets-img.primaverasound.com/97x50/psweb/yxt31fsobc3m913qudhn_1579123327109.png https://www.primaverasound.com/en/primavera-sound-202x2-barcelona/vtss\n",
      "Yo la Tengo TBD Parc del Fòrum https://assets-img.primaverasound.com/97x50/psweb/9cc0hr4suwa7bdv8l7ia_1575289262030.jpg https://www.primaverasound.com/en/primavera-sound-202x2-barcelona/yo-la-tengo\n"
     ]
    }
   ],
   "source": [
    "for artist in days[0].table.tbody.find_all('tr'):\n",
    "    row = artist.find_all('td')[1]\n",
    "    name = row.h3.text\n",
    "    time_and_place = row.find_all('p')\n",
    "    time = row.find_all('p')[0].text\n",
    "    place = row.find_all('p')[1].text\n",
    "    imgs = row.find_all('img')\n",
    "    img = imgs[1]['src']\n",
    "    url = row.div.a['href']\n",
    "    url = f'https://www.primaverasound.com{url}'\n",
    "\n",
    "    print(name, time, place, img, url)"
   ]
  },
  {
   "cell_type": "code",
   "execution_count": 8,
   "id": "d28e31fd",
   "metadata": {},
   "outputs": [],
   "source": [
    "def get_artist_details(row):\n",
    "    name = row.h3.text.strip()\n",
    "    time_and_place = row.find_all('p')\n",
    "    time = row.find_all('p')[0].text\n",
    "    place = row.find_all('p')[1].text\n",
    "    imgs = row.find_all('img')\n",
    "    img = imgs[1]['src'] if len(imgs) > 0 else ''\n",
    "    url = row.div.a['href']\n",
    "    url = f'https://www.primaverasound.com{url}'\n",
    "\n",
    "    return name, time, place, img, url"
   ]
  },
  {
   "cell_type": "code",
   "execution_count": 9,
   "id": "c293ec07",
   "metadata": {},
   "outputs": [],
   "source": [
    "daysList = []\n",
    "for d in days:\n",
    "    day_place = [d.strip() for d in d.p.text.split('|')]\n",
    "    artists = []\n",
    "    for artist in d.table.tbody.find_all('tr'):\n",
    "        name, time, place, img, url = get_artist_details(artist.find_all('td')[1])\n",
    "        artists.append({\n",
    "            'name': name,\n",
    "            'time': time,\n",
    "            'place': place,\n",
    "            'img': img,\n",
    "            'url': url\n",
    "        })\n",
    "    daysList.append({\n",
    "        'day': day_place[0],\n",
    "        'place': day_place[1],\n",
    "        'bands': artists\n",
    "    })"
   ]
  },
  {
   "cell_type": "code",
   "execution_count": 10,
   "id": "b85b1bbb",
   "metadata": {},
   "outputs": [],
   "source": [
    "with open('./data/bands.json', 'w') as fout:\n",
    "    json.dump(daysList , fout, indent=2, ensure_ascii=False)"
   ]
  }
 ],
 "metadata": {
  "kernelspec": {
   "display_name": "Python 3",
   "language": "python",
   "name": "python3"
  },
  "language_info": {
   "codemirror_mode": {
    "name": "ipython",
    "version": 3
   },
   "file_extension": ".py",
   "mimetype": "text/x-python",
   "name": "python",
   "nbconvert_exporter": "python",
   "pygments_lexer": "ipython3",
   "version": "3.8.8"
  }
 },
 "nbformat": 4,
 "nbformat_minor": 5
}
